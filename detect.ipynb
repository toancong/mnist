{
 "cells": [
  {
   "cell_type": "code",
   "execution_count": 1,
   "metadata": {},
   "outputs": [],
   "source": [
    "from __future__ import absolute_import\n",
    "from __future__ import division\n",
    "from __future__ import print_function\n",
    "\n",
    "import numpy as np\n",
    "import tensorflow as tf\n",
    "import cnn_mnist as mnist"
   ]
  },
  {
   "cell_type": "code",
   "execution_count": 5,
   "metadata": {},
   "outputs": [
    {
     "name": "stdout",
     "output_type": "stream",
     "text": [
      "Extracting MNIST-data/train-images-idx3-ubyte.gz\n",
      "Extracting MNIST-data/train-labels-idx1-ubyte.gz\n",
      "Extracting MNIST-data/t10k-images-idx3-ubyte.gz\n",
      "Extracting MNIST-data/t10k-labels-idx1-ubyte.gz\n",
      "mnist_convnet_model/model.ckpt-40000\n",
      "Prediction: 7 0.999893\n"
     ]
    }
   ],
   "source": [
    "if __name__ == '__main__':\n",
    "    tf.logging.set_verbosity(tf.logging.ERROR)\n",
    "    classifier = tf.estimator.Estimator(\n",
    "        model_fn=mnist.cnn_model_fn, model_dir=\"mnist_convnet_model\")\n",
    "    data = tf.contrib.learn.datasets.load_dataset(\"mnist\").test.images\n",
    "    \n",
    "    print(classifier.latest_checkpoint())\n",
    "    \n",
    "    detect_input_fn = tf.estimator.inputs.numpy_input_fn(x={\"x\": np.array([data[0]])}, shuffle=False)\n",
    "    predict_keys=['0', '1', '2', '3', '4', '5', '6', '7', '8', '9']\n",
    "    predictions = classifier.predict(\n",
    "        input_fn=detect_input_fn,\n",
    "#         predict_keys={'classes': predict_keys}\n",
    "    )\n",
    "\n",
    "    for i, p in enumerate(predictions):\n",
    "        pridict = predict_keys[p['classes']]\n",
    "        print(\"Prediction: %s %f\" % (pridict, p['probabilities'][p['classes']] ))\n"
   ]
  },
  {
   "cell_type": "code",
   "execution_count": null,
   "metadata": {},
   "outputs": [],
   "source": []
  }
 ],
 "metadata": {
  "kernelspec": {
   "display_name": "Python 3",
   "language": "python",
   "name": "python3"
  },
  "language_info": {
   "codemirror_mode": {
    "name": "ipython",
    "version": 3
   },
   "file_extension": ".py",
   "mimetype": "text/x-python",
   "name": "python",
   "nbconvert_exporter": "python",
   "pygments_lexer": "ipython3",
   "version": "3.6.4"
  }
 },
 "nbformat": 4,
 "nbformat_minor": 2
}
